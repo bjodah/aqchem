{
 "cells": [
  {
   "cell_type": "code",
   "execution_count": null,
   "metadata": {
    "collapsed": false
   },
   "outputs": [],
   "source": [
    "from __future__ import division\n",
    "from aqchem.chemistry import Solute\n",
    "from aqchem.equilibria import Equilibrium, EqSystem, charge_balance, atom_balance, REqSystem\n",
    "import periodictable\n",
    "import numpy as np\n",
    "import sympy as sp\n",
    "sp.init_printing()\n",
    "import matplotlib.pyplot as plt\n",
    "%matplotlib inline"
   ]
  },
  {
   "cell_type": "code",
   "execution_count": null,
   "metadata": {
    "collapsed": false
   },
   "outputs": [],
   "source": [
    "substances = Hp, OHm, NH4p, NH3, H2O = [\n",
    "    Solute(n, formula=periodictable.formula(n)) for n in [\n",
    "        'H{+}', 'HO{-}', 'NH3 + H{+}', 'NH3', 'H2O']]\n",
    "#substances = substances[::-1]\n",
    "assert (Hp.charge, OHm.charge, NH4p.charge, NH3.charge, H2O.charge) == (1, -1, 1, 0, 0)\n",
    "init_conc = {Hp: 1e-7, OHm: 1e-7, NH4p: 1e-7, NH3: 1.0, H2O: 55.5}\n",
    "x0 = [init_conc[k] for k in substances]\n",
    "H2O_c = init_conc[H2O]\n",
    "w_autop = Equilibrium({H2O: 1}, {Hp: 1, OHm: 1}, 10**-14/H2O_c)\n",
    "NH4p_pr = Equilibrium({NH4p: 1}, {Hp: 1, NH3: 1}, 10**-9.26)\n",
    "equilibria = w_autop, NH4p_pr\n",
    "[(k, init_conc[k]) for k in substances]"
   ]
  },
  {
   "cell_type": "code",
   "execution_count": null,
   "metadata": {
    "collapsed": false
   },
   "outputs": [],
   "source": [
    "rs = EqSystem(equilibria, substances)\n",
    "Cout, ic, success = rs.plot(init_conc, Hp, np.logspace(-4, 0, 10), logspace=True, method='lm')\n",
    "all(success)"
   ]
  },
  {
   "cell_type": "code",
   "execution_count": null,
   "metadata": {
    "collapsed": false
   },
   "outputs": [],
   "source": [
    "ny = len(substances)\n",
    "y = sp.symarray('y', ny)\n",
    "i = sp.symarray('i', ny)\n",
    "Kw, Ka, sigma = sp.symbols('K_w K_a sigma')\n",
    "w_autop.params = Kw\n",
    "NH4p_pr.params = Ka\n",
    "#f, elim, red_cbs = rs.f(y, i, scaling=sigma, pres1st=True, presw=1000, norm=True, const_indices=(4,))\n",
    "# y = y[:-1]\n",
    "ss = sp.symarray('s', ny)\n",
    "ms = sp.symarray('m', ny)"
   ]
  },
  {
   "cell_type": "code",
   "execution_count": null,
   "metadata": {
    "collapsed": false
   },
   "outputs": [],
   "source": []
  },
  {
   "cell_type": "code",
   "execution_count": null,
   "metadata": {
    "collapsed": false
   },
   "outputs": [],
   "source": [
    "f = rs.f_logc(y, i, ln=sp.log, exp=sp.exp)\n",
    "f"
   ]
  },
  {
   "cell_type": "code",
   "execution_count": null,
   "metadata": {
    "collapsed": false
   },
   "outputs": [],
   "source": [
    "from pyneqsys import SymbolicSys\n",
    "subs = zip(i, x0) + [(Kw, 10**-14), (Ka, 10**-9.26)]\n",
    "numf = [_.subs(subs) for _ in f]\n",
    "neqs = SymbolicSys(list(y), numf)\n",
    "neqs.solve_scipy([0, 0, 0, 0, 0])"
   ]
  },
  {
   "cell_type": "code",
   "execution_count": null,
   "metadata": {
    "collapsed": false
   },
   "outputs": [],
   "source": [
    "#f, elim, red_cbs = rs.f([_*sigma for _ in y], i, scaling=sigma, norm=True, pres_norm=True, rref=False,\n",
    "#                            charge=False, presw=1)\n",
    "\n",
    "#f, elim, red_cbs = rs.f(y, i, scaling=sigma, norm=True,\n",
    "#                            charge=False, presw=1, reduced=True, extra_pres_sq=True)\n",
    "#y = [_ for idx,_ in enumerate(y) if idx not in elim]\n",
    "#tanh_subs = [(yi, m + s*sp.tanh((yi - m)/s)) for\n",
    "#             yi, m, s in zip(y, ms, ss)]\n",
    "#f = [_.subs(tanh_subs) for _ in f]\n",
    "#[_.simplify() for _ in f]\n",
    "#f"
   ]
  },
  {
   "cell_type": "code",
   "execution_count": null,
   "metadata": {
    "collapsed": false
   },
   "outputs": [],
   "source": [
    "j = sp.Matrix(1, len(f), lambda _, q: f[q]).jacobian(y)\n",
    "init_conc_j = {Hp: 1e-10, OHm: 1e-7, NH4p: 1e-7, NH3: 1.0, H2O: 55.5}\n",
    "xj = rs.as_per_substance_array(init_conc_j)\n",
    "jarr = np.array(j.subs(zip(y, xj)).subs({sigma: 1e0, Kw: 1e-14, Ka: 10**-9.26}).subs(\n",
    "            zip(i, xj)))\n",
    "jarr = np.asarray(jarr, dtype=np.float64)\n",
    "np.log10(np.linalg.cond(jarr))"
   ]
  },
  {
   "cell_type": "code",
   "execution_count": null,
   "metadata": {
    "collapsed": false
   },
   "outputs": [],
   "source": [
    "j.simplify()\n",
    "j"
   ]
  },
  {
   "cell_type": "code",
   "execution_count": null,
   "metadata": {
    "collapsed": false
   },
   "outputs": [],
   "source": [
    "[s.name for s in rs.substances]"
   ]
  },
  {
   "cell_type": "code",
   "execution_count": null,
   "metadata": {
    "collapsed": false
   },
   "outputs": [],
   "source": [
    "rs.charge_balance_vector(), rs.atom_balance_vectors()"
   ]
  },
  {
   "cell_type": "code",
   "execution_count": null,
   "metadata": {
    "collapsed": false
   },
   "outputs": [],
   "source": [
    "rs.rref()"
   ]
  },
  {
   "cell_type": "code",
   "execution_count": null,
   "metadata": {
    "collapsed": false
   },
   "outputs": [],
   "source": [
    "np.set_printoptions(4, linewidth=120)\n",
    "scaling = 1e8\n",
    "for rxn in rs.rxns:\n",
    "    rxn.params = rxn.params.subs({Kw: 1e-14, Ka: 10**-9.26})"
   ]
  },
  {
   "cell_type": "code",
   "execution_count": null,
   "metadata": {
    "collapsed": false
   },
   "outputs": [],
   "source": [
    "x, res = rs.root(x0, scaling=1, logC=False, square=False)\n",
    "res.success"
   ]
  },
  {
   "cell_type": "code",
   "execution_count": null,
   "metadata": {
    "collapsed": false
   },
   "outputs": [],
   "source": [
    "x, res = rs.root({Hp: 1e-11, OHm: 1e-3, NH4p: 1e-3, NH3: 1.0, H2O: 55.5}, scaling=1, logC=False, square=False)\n",
    "res.success"
   ]
  },
  {
   "cell_type": "code",
   "execution_count": null,
   "metadata": {
    "collapsed": false
   },
   "outputs": [],
   "source": [
    "x, res = rs.root({Hp: 1.7e-11, OHm: 3e-2, NH4p: 3e-2, NH3: 0.97, H2O: 55.5}, scaling=1e8, logC=False, square=False)\n",
    "res.success"
   ]
  },
  {
   "cell_type": "code",
   "execution_count": null,
   "metadata": {
    "collapsed": false
   },
   "outputs": [],
   "source": [
    "x, res = rs.root({Hp: 1.7e-11, OHm: 3e-2, NH4p: 3e-2, NH3: 0.97, H2O: 55.5}, scaling=1e16, logC=True, square=False)\n",
    "x"
   ]
  },
  {
   "cell_type": "code",
   "execution_count": null,
   "metadata": {
    "collapsed": false
   },
   "outputs": [],
   "source": [
    "rs.root(x0, scaling=1e8, logC=False, square=False)"
   ]
  },
  {
   "cell_type": "code",
   "execution_count": null,
   "metadata": {
    "collapsed": false
   },
   "outputs": [],
   "source": [
    "rs.root(x0, scaling=1, logC=False, square=False)"
   ]
  },
  {
   "cell_type": "code",
   "execution_count": null,
   "metadata": {
    "collapsed": false
   },
   "outputs": [],
   "source": [
    "rs.root(x0, scaling=1.0, logC=False, reduced=True)"
   ]
  },
  {
   "cell_type": "code",
   "execution_count": null,
   "metadata": {
    "collapsed": false
   },
   "outputs": [],
   "source": []
  },
  {
   "cell_type": "code",
   "execution_count": null,
   "metadata": {
    "collapsed": false
   },
   "outputs": [],
   "source": [
    "ny = len(rs.substances)\n",
    "nc = 10\n",
    "x = np.empty((nc, ny))\n",
    "Hparr = np.logspace(-4, 0, nc)\n",
    "success = []\n",
    "for idx in range(nc):\n",
    "    x00 = x0[:]\n",
    "    x00[0] = Hparr[idx]\n",
    "    resx, res = rs.root(x00, scaling=1e12)\n",
    "    success.append(res.success)\n",
    "    x[idx, :] = resx\n",
    "for idx_s in range(ny):\n",
    "    plt.loglog(Hparr, x[:, idx_s], label=rs.substances[idx_s].name)\n",
    "plt.legend(loc='best')\n",
    "for i, s in enumerate(success):\n",
    "    if s is False:\n",
    "        plt.axvline(Hparr[i], c='k', ls='--')"
   ]
  },
  {
   "cell_type": "code",
   "execution_count": null,
   "metadata": {
    "collapsed": false
   },
   "outputs": [],
   "source": [
    "init_conc"
   ]
  },
  {
   "cell_type": "code",
   "execution_count": null,
   "metadata": {
    "collapsed": false
   },
   "outputs": [],
   "source": [
    "nc=30\n",
    "fig = plt.figure(figsize=(16, 6))\n",
    "ax1 = plt.subplot(2, 3, 1, xscale='log', yscale='log')\n",
    "Cout_1, ic1, success1 = rs.plot(init_conc, Hp, np.logspace(-4, 0, nc), scaling=1e14, ax=ax1)\n",
    "ax2 = plt.subplot(2, 3, 2, xscale='log', yscale='log')\n",
    "Cout_2, ic2, success2 = rs.plot(init_conc, Hp, np.logspace(-4, 0, nc), scaling=1e14, const=(H2O,), ax=ax2)\n",
    "ax3 = plt.subplot(2, 3, 3, xscale='log', yscale='log')\n",
    "Cout_3, ic3, success3 = rs.plot(init_conc, Hp, np.logspace(-4, 0, nc), scaling=1e14, method='lm', ax=ax3)\n",
    "ax4 = plt.subplot(2, 3, 4, xscale='log', yscale='log')\n",
    "Cout_4, ic4, success4 = rs.plot(init_conc, Hp, np.logspace(-4, 0, nc), scaling=1e6, reduced=True, ax=ax4)\n",
    "ax5 = plt.subplot(2, 3, 5, xscale='log', yscale='log')\n",
    "Cout_5, ic5, success5 = rs.plot(init_conc, Hp, np.logspace(-4, 0, nc), scaling=1e6, reduced=True, norm=True, ax=ax5)\n",
    "ax6 = plt.subplot(2, 3, 6, xscale='log', yscale='log')\n",
    "Cout_6, ic6, success6 = rs.plot(init_conc, Hp, np.logspace(-4, 0, nc), scaling=1e14, rref=False, ax=ax6, charge=False)\n",
    "all(success1), all(success2), all(success3), all(success4), all(success5), all(success6)"
   ]
  },
  {
   "cell_type": "code",
   "execution_count": null,
   "metadata": {
    "collapsed": false
   },
   "outputs": [],
   "source": [
    "rs.plot_errors(Cout_6, ic6, Hp)"
   ]
  },
  {
   "cell_type": "code",
   "execution_count": null,
   "metadata": {
    "collapsed": false
   },
   "outputs": [],
   "source": [
    "Cout, ic, success = rs.plot(init_conc, Hp, np.logspace(-4, 0, 10), scaling=1e6, reduced=True, norm=True\n",
    "                            , method='lm',\n",
    "                           # extra_pres_sq=True\n",
    "                           )\n",
    "all(success)"
   ]
  },
  {
   "cell_type": "code",
   "execution_count": null,
   "metadata": {
    "collapsed": false
   },
   "outputs": [],
   "source": [
    "Cout_14, ic, success = rs.plot(init_conc, Hp, np.logspace(-4, 0, nc), scaling=1e6, pres1st=True, rref=False, charge=False,\n",
    "                                norm=True, pres_norm=True, presw=1000)\n",
    "all(success)"
   ]
  },
  {
   "cell_type": "code",
   "execution_count": null,
   "metadata": {
    "collapsed": false
   },
   "outputs": [],
   "source": [
    "Cout_14, ic, success = rs.plot(init_conc, Hp, np.logspace(-4, 0, nc), scaling=1e6, pres1st=True, norm=True, method='lm')\n",
    "all(success)"
   ]
  },
  {
   "cell_type": "code",
   "execution_count": null,
   "metadata": {
    "collapsed": false
   },
   "outputs": [],
   "source": []
  },
  {
   "cell_type": "code",
   "execution_count": null,
   "metadata": {
    "collapsed": false
   },
   "outputs": [],
   "source": [
    "Cout_14, ic, success = rs.plot(init_conc, Hp, np.logspace(-4, 0, nc), scaling=1e6, pres1st=True, norm=True, init_iter=15)\n",
    "all(success)"
   ]
  },
  {
   "cell_type": "code",
   "execution_count": null,
   "metadata": {
    "collapsed": false
   },
   "outputs": [],
   "source": [
    "nc = 40\n",
    "scaling = 1e8\n",
    "Cout_14, ic, success = rs.plot(init_conc, Hp, np.logspace(-4, 0, nc), scaling=scaling,\n",
    "                               norm=True, init_iter=15, carry=False, pres_norm=True, presw=scaling)\n",
    "    # pres1st=True, method='lm', <--- Does not matter\n",
    "    # extra_pres_sq=True <--- Makes things worse\n",
    "all(success)"
   ]
  },
  {
   "cell_type": "code",
   "execution_count": null,
   "metadata": {
    "collapsed": false
   },
   "outputs": [],
   "source": [
    "Cout, inits, success = rs.plot(init_conc, Hp, np.logspace(-4, 0, nc), scaling=1e6, pres1st=True, presw=1,\n",
    "                               norm=True, init_iter=15)\n",
    "all(success)"
   ]
  },
  {
   "cell_type": "code",
   "execution_count": null,
   "metadata": {
    "collapsed": false
   },
   "outputs": [],
   "source": [
    "import random\n",
    "subst = tuple(rs.substances)\n",
    "plt.figure(figsize=(16,6))\n",
    "for i in range(1, 2*3+1):\n",
    "    ax = plt.subplot(2, 3, i, xscale='log', yscale='log')\n",
    "    Cout, ic, success = rs.plot(init_conc, Hp, np.logspace(-4, 0, 30), ax=ax, scaling=1e12,\n",
    "                                norm=True, pres_norm=True, presw=1000\n",
    "                                #charge=False, rref=False\n",
    "                                #reduced=True\n",
    "                               )\n",
    "                                 #norm=True, pres_norm=True, presw=1000)\n",
    "    plt.title(', '.join([str(s) for s in rs.substances]))\n",
    "    random.shuffle(rs.substances)\n",
    "rs.substances = list(subst)\n",
    "init_conc"
   ]
  },
  {
   "cell_type": "code",
   "execution_count": null,
   "metadata": {
    "collapsed": false
   },
   "outputs": [],
   "source": [
    "init_conc"
   ]
  },
  {
   "cell_type": "code",
   "execution_count": null,
   "metadata": {
    "collapsed": false
   },
   "outputs": [],
   "source": [
    "Cout_14, ic, success = rs.plot(init_conc, Hp, np.logspace(-4, 0, nc), scaling=1, norm=True, pres_norm=True,\n",
    "                               rref=True, method='lm') #, options=dict(maxfev=300*rs.ns))\n",
    "all(success)"
   ]
  },
  {
   "cell_type": "code",
   "execution_count": null,
   "metadata": {
    "collapsed": false
   },
   "outputs": [],
   "source": [
    "Cout_reduced, ic, success = rs.plot(init_conc, Hp, np.logspace(-4, 0, nc), scaling=1, norm=True, reduced=True,\n",
    "                                    method='lm') #, options=dict(maxfev=300*rs.ns))\n",
    "all(success)"
   ]
  },
  {
   "cell_type": "code",
   "execution_count": null,
   "metadata": {
    "collapsed": false,
    "scrolled": true
   },
   "outputs": [],
   "source": [
    "Cout_logC, inits_out, success = rs.plot(init_conc, Hp, np.logspace(-4, 0, nc), logC=True, presw=1e2, scaling=1,\n",
    "                                        norm=True, pres_norm=True)\n",
    "all(success)"
   ]
  },
  {
   "cell_type": "code",
   "execution_count": null,
   "metadata": {
    "collapsed": false
   },
   "outputs": [],
   "source": [
    "rs.plot_errors(Cout_logC, inits_out, Hp)"
   ]
  },
  {
   "cell_type": "code",
   "execution_count": null,
   "metadata": {
    "collapsed": false,
    "scrolled": true
   },
   "outputs": [],
   "source": [
    "Cout_logC, inits_out, success = rs.plot(init_conc, Hp, np.logspace(-4, 0, nc), logC=True, init_guess=Cout_14, init_iter=0)\n",
    "all(success)"
   ]
  },
  {
   "cell_type": "code",
   "execution_count": null,
   "metadata": {
    "collapsed": false,
    "scrolled": true
   },
   "outputs": [],
   "source": [
    "Cout_14, ic14, success = rs.plot(init_conc, Hp, np.logspace(-4, 0, nc), scaling=1e14, carry=True)\n",
    "all(success)"
   ]
  },
  {
   "cell_type": "code",
   "execution_count": null,
   "metadata": {
    "collapsed": false
   },
   "outputs": [],
   "source": [
    "_1, _2, success = rs.plot(init_conc, Hp, np.logspace(-4, 0, nc), scaling=1e-4, tol=1e-12, init_iter=100)\n",
    "all(success)"
   ]
  },
  {
   "cell_type": "code",
   "execution_count": null,
   "metadata": {
    "collapsed": false
   },
   "outputs": [],
   "source": [
    "_1, _2, success = rs.plot(init_conc, Hp, np.logspace(-4, 0, nc), scaling=1e-8)\n",
    "all(success)"
   ]
  },
  {
   "cell_type": "code",
   "execution_count": null,
   "metadata": {
    "collapsed": false
   },
   "outputs": [],
   "source": [
    "_1, _2, success = rs.plot(init_conc, Hp, np.logspace(-4, 0, nc), scaling=1e-8, carry=True)\n",
    "all(success)"
   ]
  },
  {
   "cell_type": "code",
   "execution_count": null,
   "metadata": {
    "collapsed": false
   },
   "outputs": [],
   "source": []
  },
  {
   "cell_type": "code",
   "execution_count": null,
   "metadata": {
    "collapsed": false
   },
   "outputs": [],
   "source": [
    "Cout, inits_out, success = rs.plot(Cout_14, Hp, np.logspace(-4, 0, nc), scaling=1, init_iter=0, method='lm')\n",
    "all(success), Cout.shape"
   ]
  },
  {
   "cell_type": "code",
   "execution_count": null,
   "metadata": {
    "collapsed": false,
    "scrolled": false
   },
   "outputs": [],
   "source": [
    "Cout, inits_out, success = rs.plot(Cout_14, Hp, np.logspace(-4, 0, nc), scaling=1, logC=True, init_iter=0, method='lm')\n",
    "all(success)"
   ]
  },
  {
   "cell_type": "code",
   "execution_count": null,
   "metadata": {
    "collapsed": false
   },
   "outputs": [],
   "source": [
    "rs.plot_errors(Cout, inits_out, Hp)"
   ]
  },
  {
   "cell_type": "code",
   "execution_count": null,
   "metadata": {
    "collapsed": false
   },
   "outputs": [],
   "source": []
  },
  {
   "cell_type": "code",
   "execution_count": null,
   "metadata": {
    "collapsed": false
   },
   "outputs": [],
   "source": [
    "x0"
   ]
  },
  {
   "cell_type": "code",
   "execution_count": null,
   "metadata": {
    "collapsed": false
   },
   "outputs": [],
   "source": [
    "from aqchem.equilibria import solve_equilibrium\n",
    "_x0 = x0[:]\n",
    "print(_x0)\n",
    "for w in range(1,5):\n",
    "    for eq in rs.rxns:\n",
    "        new_x0 = solve_equilibrium(x0, eq.net_stoich(rs.substances), eq.params)\n",
    "        _x0 = (w*_x0 + new_x0)/(w+1)\n",
    "        print(x0)"
   ]
  },
  {
   "cell_type": "code",
   "execution_count": null,
   "metadata": {
    "collapsed": true
   },
   "outputs": [],
   "source": []
  },
  {
   "cell_type": "code",
   "execution_count": null,
   "metadata": {
    "collapsed": false
   },
   "outputs": [],
   "source": [
    "#Cout, inits_out, success = reqsys.plot(init_conc, Hp, np.logspace(-7, 0, 20), scaling=1e6, carry=False)"
   ]
  },
  {
   "cell_type": "code",
   "execution_count": null,
   "metadata": {
    "collapsed": false
   },
   "outputs": [],
   "source": [
    "reqsys = REqSystem(equilibria, substances)\n",
    "reqsys.root(init_conc, scaling=1e1)"
   ]
  },
  {
   "cell_type": "code",
   "execution_count": null,
   "metadata": {
    "collapsed": true
   },
   "outputs": [],
   "source": []
  },
  {
   "cell_type": "code",
   "execution_count": null,
   "metadata": {
    "collapsed": true
   },
   "outputs": [],
   "source": []
  }
 ],
 "metadata": {
  "kernelspec": {
   "display_name": "Python 2",
   "language": "python",
   "name": "python2"
  },
  "language_info": {
   "codemirror_mode": {
    "name": "ipython",
    "version": 2
   },
   "file_extension": ".py",
   "mimetype": "text/x-python",
   "name": "python",
   "nbconvert_exporter": "python",
   "pygments_lexer": "ipython2",
   "version": "2.7.6"
  }
 },
 "nbformat": 4,
 "nbformat_minor": 0
}
